{
 "cells": [
  {
   "cell_type": "markdown",
   "id": "e695f24f-1594-480c-a1d1-31b2cb081be5",
   "metadata": {},
   "source": [
    "# Minecraft - DSCI 100 \n",
    "###### Name:  Alycia M. \n",
    "###### Student Number: 92941665"
   ]
  },
  {
   "cell_type": "code",
   "execution_count": 1,
   "id": "02442f56-f6e0-4253-8d04-6d87c774bda2",
   "metadata": {},
   "outputs": [
    {
     "name": "stderr",
     "output_type": "stream",
     "text": [
      "── \u001b[1mAttaching core tidyverse packages\u001b[22m ──────────────────────── tidyverse 2.0.0 ──\n",
      "\u001b[32m✔\u001b[39m \u001b[34mdplyr    \u001b[39m 1.1.4     \u001b[32m✔\u001b[39m \u001b[34mreadr    \u001b[39m 2.1.5\n",
      "\u001b[32m✔\u001b[39m \u001b[34mforcats  \u001b[39m 1.0.0     \u001b[32m✔\u001b[39m \u001b[34mstringr  \u001b[39m 1.5.1\n",
      "\u001b[32m✔\u001b[39m \u001b[34mggplot2  \u001b[39m 3.5.1     \u001b[32m✔\u001b[39m \u001b[34mtibble   \u001b[39m 3.2.1\n",
      "\u001b[32m✔\u001b[39m \u001b[34mlubridate\u001b[39m 1.9.3     \u001b[32m✔\u001b[39m \u001b[34mtidyr    \u001b[39m 1.3.1\n",
      "\u001b[32m✔\u001b[39m \u001b[34mpurrr    \u001b[39m 1.0.2     \n",
      "── \u001b[1mConflicts\u001b[22m ────────────────────────────────────────── tidyverse_conflicts() ──\n",
      "\u001b[31m✖\u001b[39m \u001b[34mdplyr\u001b[39m::\u001b[32mfilter()\u001b[39m masks \u001b[34mstats\u001b[39m::filter()\n",
      "\u001b[31m✖\u001b[39m \u001b[34mdplyr\u001b[39m::\u001b[32mlag()\u001b[39m    masks \u001b[34mstats\u001b[39m::lag()\n",
      "\u001b[36mℹ\u001b[39m Use the conflicted package (\u001b[3m\u001b[34m<http://conflicted.r-lib.org/>\u001b[39m\u001b[23m) to force all conflicts to become errors\n",
      "── \u001b[1mAttaching packages\u001b[22m ────────────────────────────────────── tidymodels 1.1.1 ──\n",
      "\n",
      "\u001b[32m✔\u001b[39m \u001b[34mbroom       \u001b[39m 1.0.6     \u001b[32m✔\u001b[39m \u001b[34mrsample     \u001b[39m 1.2.1\n",
      "\u001b[32m✔\u001b[39m \u001b[34mdials       \u001b[39m 1.3.0     \u001b[32m✔\u001b[39m \u001b[34mtune        \u001b[39m 1.1.2\n",
      "\u001b[32m✔\u001b[39m \u001b[34minfer       \u001b[39m 1.0.7     \u001b[32m✔\u001b[39m \u001b[34mworkflows   \u001b[39m 1.1.4\n",
      "\u001b[32m✔\u001b[39m \u001b[34mmodeldata   \u001b[39m 1.4.0     \u001b[32m✔\u001b[39m \u001b[34mworkflowsets\u001b[39m 1.0.1\n",
      "\u001b[32m✔\u001b[39m \u001b[34mparsnip     \u001b[39m 1.2.1     \u001b[32m✔\u001b[39m \u001b[34myardstick   \u001b[39m 1.3.1\n",
      "\u001b[32m✔\u001b[39m \u001b[34mrecipes     \u001b[39m 1.1.0     \n",
      "\n",
      "── \u001b[1mConflicts\u001b[22m ───────────────────────────────────────── tidymodels_conflicts() ──\n",
      "\u001b[31m✖\u001b[39m \u001b[34mscales\u001b[39m::\u001b[32mdiscard()\u001b[39m masks \u001b[34mpurrr\u001b[39m::discard()\n",
      "\u001b[31m✖\u001b[39m \u001b[34mdplyr\u001b[39m::\u001b[32mfilter()\u001b[39m   masks \u001b[34mstats\u001b[39m::filter()\n",
      "\u001b[31m✖\u001b[39m \u001b[34mrecipes\u001b[39m::\u001b[32mfixed()\u001b[39m  masks \u001b[34mstringr\u001b[39m::fixed()\n",
      "\u001b[31m✖\u001b[39m \u001b[34mdplyr\u001b[39m::\u001b[32mlag()\u001b[39m      masks \u001b[34mstats\u001b[39m::lag()\n",
      "\u001b[31m✖\u001b[39m \u001b[34myardstick\u001b[39m::\u001b[32mspec()\u001b[39m masks \u001b[34mreadr\u001b[39m::spec()\n",
      "\u001b[31m✖\u001b[39m \u001b[34mrecipes\u001b[39m::\u001b[32mstep()\u001b[39m   masks \u001b[34mstats\u001b[39m::step()\n",
      "\u001b[34m•\u001b[39m Learn how to get started at \u001b[32mhttps://www.tidymodels.org/start/\u001b[39m\n",
      "\n"
     ]
    }
   ],
   "source": [
    "# loading packages \n",
    "library(tidyverse)\n",
    "library(tidymodels)\n",
    "library(repr)\n",
    "library(RColorBrewer)\n",
    "library(patchwork)"
   ]
  },
  {
   "cell_type": "markdown",
   "id": "91449dac-cd83-410e-9c77-e9793201f666",
   "metadata": {},
   "source": [
    "## Introduction "
   ]
  },
  {
   "cell_type": "markdown",
   "id": "3d97ea4c-0f49-41af-893a-0c05061dd6dd",
   "metadata": {},
   "source": [
    "Video games have evolved beyond entertainment into rich environments for behavioral research. As players interact within virtual worlds, they leave data that offer researchers opportunities to study human behavior and engagement patterns. \n",
    "\n",
    "Minecraft with millions of users worldwide, is particularly popular for such studies due to its open-ended gameplay and broad appeal across age groups.\n",
    "\n",
    "At the University of British Columbia (UBC), a research team led by Dr. Frank Wood has set up a Minecraft server to collect data by \n",
    "recoridng players' actions as they navigate through the world all in which is to investigate how people play games and what factors influence their continued participation. However, running such a server is resource-intensive. It requires software licenses, robust hardware, and recruitment efforts to ensure enough players contribute meaningful data. To make this sustainable, the team is interested in identifying which types of players are most likely to stay engaged.\n",
    "\n",
    "To aid in their work, will be answering the \n",
    "### Question: \n",
    "Can we predict whether a Minecraft player will subscribe based on their gender, age and hours played?\n"
   ]
  },
  {
   "cell_type": "markdown",
   "id": "d292e9ca-f305-4188-8ae5-f059c99af069",
   "metadata": {},
   "source": [
    "\n",
    "\n",
    "Analysis with be examined through player data set and session data set. "
   ]
  },
  {
   "cell_type": "markdown",
   "id": "5e51a4b8-40a9-426a-bbea-a16aa6160973",
   "metadata": {},
   "source": [
    "## Analysis on Player Data Set"
   ]
  },
  {
   "cell_type": "code",
   "execution_count": 4,
   "id": "990d90cd-e29a-45fa-bf41-eec4b7b4a9dd",
   "metadata": {},
   "outputs": [
    {
     "name": "stderr",
     "output_type": "stream",
     "text": [
      "\u001b[1mRows: \u001b[22m\u001b[34m196\u001b[39m \u001b[1mColumns: \u001b[22m\u001b[34m7\u001b[39m\n",
      "\u001b[36m──\u001b[39m \u001b[1mColumn specification\u001b[22m \u001b[36m────────────────────────────────────────────────────────\u001b[39m\n",
      "\u001b[1mDelimiter:\u001b[22m \",\"\n",
      "\u001b[31mchr\u001b[39m (4): experience, hashedEmail, name, gender\n",
      "\u001b[32mdbl\u001b[39m (2): played_hours, Age\n",
      "\u001b[33mlgl\u001b[39m (1): subscribe\n",
      "\n",
      "\u001b[36mℹ\u001b[39m Use `spec()` to retrieve the full column specification for this data.\n",
      "\u001b[36mℹ\u001b[39m Specify the column types or set `show_col_types = FALSE` to quiet this message.\n"
     ]
    },
    {
     "data": {
      "text/html": [
       "<table class=\"dataframe\">\n",
       "<caption>A tibble: 10 × 7</caption>\n",
       "<thead>\n",
       "\t<tr><th scope=col>experience</th><th scope=col>subscribe</th><th scope=col>hashedEmail</th><th scope=col>played_hours</th><th scope=col>name</th><th scope=col>gender</th><th scope=col>Age</th></tr>\n",
       "\t<tr><th scope=col>&lt;chr&gt;</th><th scope=col>&lt;lgl&gt;</th><th scope=col>&lt;chr&gt;</th><th scope=col>&lt;dbl&gt;</th><th scope=col>&lt;chr&gt;</th><th scope=col>&lt;chr&gt;</th><th scope=col>&lt;dbl&gt;</th></tr>\n",
       "</thead>\n",
       "<tbody>\n",
       "\t<tr><td>Pro    </td><td> TRUE</td><td>f6daba428a5e19a3d47574858c13550499be23603422e6a0ee9728f8b53e192d</td><td>30.3</td><td>Morgan   </td><td>Male  </td><td> 9</td></tr>\n",
       "\t<tr><td>Veteran</td><td> TRUE</td><td>f3c813577c458ba0dfef80996f8f32c93b6e8af1fa939732842f2312358a88e9</td><td> 3.8</td><td>Christian</td><td>Male  </td><td>17</td></tr>\n",
       "\t<tr><td>Veteran</td><td>FALSE</td><td>b674dd7ee0d24096d1c019615ce4d12b20fcbff12d79d3c5a9d2118eb7ccbb28</td><td> 0.0</td><td>Blake    </td><td>Male  </td><td>17</td></tr>\n",
       "\t<tr><td>Amateur</td><td> TRUE</td><td>23fe711e0e3b77f1da7aa221ab1192afe21648d47d2b4fa7a5a659ff443a0eb5</td><td> 0.7</td><td>Flora    </td><td>Female</td><td>21</td></tr>\n",
       "\t<tr><td>Regular</td><td> TRUE</td><td>7dc01f10bf20671ecfccdac23812b1b415acd42c2147cb0af4d48fcce2420f3e</td><td> 0.1</td><td>Kylie    </td><td>Male  </td><td>21</td></tr>\n",
       "\t<tr><td>Amateur</td><td> TRUE</td><td>f58aad5996a435f16b0284a3b267f973f9af99e7a89bee0430055a44fa92f977</td><td> 0.0</td><td>Adrian   </td><td>Female</td><td>17</td></tr>\n",
       "\t<tr><td>Regular</td><td> TRUE</td><td>8e594b8953193b26f498db95a508b03c6fe1c24bb5251d392c18a0da9a722807</td><td> 0.0</td><td>Luna     </td><td>Female</td><td>19</td></tr>\n",
       "\t<tr><td>Amateur</td><td>FALSE</td><td>1d2371d8a35c8831034b25bda8764539ab7db0f63938696917c447128a2540dd</td><td> 0.0</td><td>Emerson  </td><td>Male  </td><td>21</td></tr>\n",
       "\t<tr><td>Amateur</td><td> TRUE</td><td>8b71f4d66a38389b7528bb38ba6eb71157733df7d1740371852a797ae97d82d1</td><td> 0.1</td><td>Natalie  </td><td>Male  </td><td>17</td></tr>\n",
       "\t<tr><td>Veteran</td><td> TRUE</td><td>bbe2d83de678f519c4b3daa7265e683b4fe2d814077f9094afd11d8f217039ec</td><td> 0.0</td><td>Nyla     </td><td>Female</td><td>22</td></tr>\n",
       "</tbody>\n",
       "</table>\n"
      ],
      "text/latex": [
       "A tibble: 10 × 7\n",
       "\\begin{tabular}{lllllll}\n",
       " experience & subscribe & hashedEmail & played\\_hours & name & gender & Age\\\\\n",
       " <chr> & <lgl> & <chr> & <dbl> & <chr> & <chr> & <dbl>\\\\\n",
       "\\hline\n",
       "\t Pro     &  TRUE & f6daba428a5e19a3d47574858c13550499be23603422e6a0ee9728f8b53e192d & 30.3 & Morgan    & Male   &  9\\\\\n",
       "\t Veteran &  TRUE & f3c813577c458ba0dfef80996f8f32c93b6e8af1fa939732842f2312358a88e9 &  3.8 & Christian & Male   & 17\\\\\n",
       "\t Veteran & FALSE & b674dd7ee0d24096d1c019615ce4d12b20fcbff12d79d3c5a9d2118eb7ccbb28 &  0.0 & Blake     & Male   & 17\\\\\n",
       "\t Amateur &  TRUE & 23fe711e0e3b77f1da7aa221ab1192afe21648d47d2b4fa7a5a659ff443a0eb5 &  0.7 & Flora     & Female & 21\\\\\n",
       "\t Regular &  TRUE & 7dc01f10bf20671ecfccdac23812b1b415acd42c2147cb0af4d48fcce2420f3e &  0.1 & Kylie     & Male   & 21\\\\\n",
       "\t Amateur &  TRUE & f58aad5996a435f16b0284a3b267f973f9af99e7a89bee0430055a44fa92f977 &  0.0 & Adrian    & Female & 17\\\\\n",
       "\t Regular &  TRUE & 8e594b8953193b26f498db95a508b03c6fe1c24bb5251d392c18a0da9a722807 &  0.0 & Luna      & Female & 19\\\\\n",
       "\t Amateur & FALSE & 1d2371d8a35c8831034b25bda8764539ab7db0f63938696917c447128a2540dd &  0.0 & Emerson   & Male   & 21\\\\\n",
       "\t Amateur &  TRUE & 8b71f4d66a38389b7528bb38ba6eb71157733df7d1740371852a797ae97d82d1 &  0.1 & Natalie   & Male   & 17\\\\\n",
       "\t Veteran &  TRUE & bbe2d83de678f519c4b3daa7265e683b4fe2d814077f9094afd11d8f217039ec &  0.0 & Nyla      & Female & 22\\\\\n",
       "\\end{tabular}\n"
      ],
      "text/markdown": [
       "\n",
       "A tibble: 10 × 7\n",
       "\n",
       "| experience &lt;chr&gt; | subscribe &lt;lgl&gt; | hashedEmail &lt;chr&gt; | played_hours &lt;dbl&gt; | name &lt;chr&gt; | gender &lt;chr&gt; | Age &lt;dbl&gt; |\n",
       "|---|---|---|---|---|---|---|\n",
       "| Pro     |  TRUE | f6daba428a5e19a3d47574858c13550499be23603422e6a0ee9728f8b53e192d | 30.3 | Morgan    | Male   |  9 |\n",
       "| Veteran |  TRUE | f3c813577c458ba0dfef80996f8f32c93b6e8af1fa939732842f2312358a88e9 |  3.8 | Christian | Male   | 17 |\n",
       "| Veteran | FALSE | b674dd7ee0d24096d1c019615ce4d12b20fcbff12d79d3c5a9d2118eb7ccbb28 |  0.0 | Blake     | Male   | 17 |\n",
       "| Amateur |  TRUE | 23fe711e0e3b77f1da7aa221ab1192afe21648d47d2b4fa7a5a659ff443a0eb5 |  0.7 | Flora     | Female | 21 |\n",
       "| Regular |  TRUE | 7dc01f10bf20671ecfccdac23812b1b415acd42c2147cb0af4d48fcce2420f3e |  0.1 | Kylie     | Male   | 21 |\n",
       "| Amateur |  TRUE | f58aad5996a435f16b0284a3b267f973f9af99e7a89bee0430055a44fa92f977 |  0.0 | Adrian    | Female | 17 |\n",
       "| Regular |  TRUE | 8e594b8953193b26f498db95a508b03c6fe1c24bb5251d392c18a0da9a722807 |  0.0 | Luna      | Female | 19 |\n",
       "| Amateur | FALSE | 1d2371d8a35c8831034b25bda8764539ab7db0f63938696917c447128a2540dd |  0.0 | Emerson   | Male   | 21 |\n",
       "| Amateur |  TRUE | 8b71f4d66a38389b7528bb38ba6eb71157733df7d1740371852a797ae97d82d1 |  0.1 | Natalie   | Male   | 17 |\n",
       "| Veteran |  TRUE | bbe2d83de678f519c4b3daa7265e683b4fe2d814077f9094afd11d8f217039ec |  0.0 | Nyla      | Female | 22 |\n",
       "\n"
      ],
      "text/plain": [
       "   experience subscribe\n",
       "1  Pro         TRUE    \n",
       "2  Veteran     TRUE    \n",
       "3  Veteran    FALSE    \n",
       "4  Amateur     TRUE    \n",
       "5  Regular     TRUE    \n",
       "6  Amateur     TRUE    \n",
       "7  Regular     TRUE    \n",
       "8  Amateur    FALSE    \n",
       "9  Amateur     TRUE    \n",
       "10 Veteran     TRUE    \n",
       "   hashedEmail                                                     \n",
       "1  f6daba428a5e19a3d47574858c13550499be23603422e6a0ee9728f8b53e192d\n",
       "2  f3c813577c458ba0dfef80996f8f32c93b6e8af1fa939732842f2312358a88e9\n",
       "3  b674dd7ee0d24096d1c019615ce4d12b20fcbff12d79d3c5a9d2118eb7ccbb28\n",
       "4  23fe711e0e3b77f1da7aa221ab1192afe21648d47d2b4fa7a5a659ff443a0eb5\n",
       "5  7dc01f10bf20671ecfccdac23812b1b415acd42c2147cb0af4d48fcce2420f3e\n",
       "6  f58aad5996a435f16b0284a3b267f973f9af99e7a89bee0430055a44fa92f977\n",
       "7  8e594b8953193b26f498db95a508b03c6fe1c24bb5251d392c18a0da9a722807\n",
       "8  1d2371d8a35c8831034b25bda8764539ab7db0f63938696917c447128a2540dd\n",
       "9  8b71f4d66a38389b7528bb38ba6eb71157733df7d1740371852a797ae97d82d1\n",
       "10 bbe2d83de678f519c4b3daa7265e683b4fe2d814077f9094afd11d8f217039ec\n",
       "   played_hours name      gender Age\n",
       "1  30.3         Morgan    Male    9 \n",
       "2   3.8         Christian Male   17 \n",
       "3   0.0         Blake     Male   17 \n",
       "4   0.7         Flora     Female 21 \n",
       "5   0.1         Kylie     Male   21 \n",
       "6   0.0         Adrian    Female 17 \n",
       "7   0.0         Luna      Female 19 \n",
       "8   0.0         Emerson   Male   21 \n",
       "9   0.1         Natalie   Male   17 \n",
       "10  0.0         Nyla      Female 22 "
      ]
     },
     "metadata": {},
     "output_type": "display_data"
    }
   ],
   "source": [
    "players <- read_csv(\"players.csv\")\n",
    "head(players,10)\n"
   ]
  },
  {
   "cell_type": "markdown",
   "id": "332ee654-1b52-4c9e-a3d1-ff5562515cb9",
   "metadata": {},
   "source": [
    "In the player data set, it showcases  behavior and personal demographic information. It provides 7 variables in whch include : \n",
    "\n",
    "1. experience:\n",
    "- in character\n",
    "- showcases player skill level is a pro, veteran, amateur or regular.\n",
    "\n",
    "2.  subscribe\n",
    "- is logical\n",
    "- indicates wheter or not the player is subscribed through true or false\n",
    "\n",
    "3. hashedEmail\n",
    "- in character\n",
    "- An anonymized unique identifier for each player\n",
    "\n",
    "4. played_hours\n",
    "- in decimals\n",
    "- Total hours the player has spent in the game\n",
    "\n",
    "5. name\n",
    "- in character\n",
    "- Player's first name\n",
    "\n",
    "6. gender\n",
    "- in character\n",
    "- player's gender\n",
    "\n",
    "7. Age\n",
    "- in decimals\n",
    "- player's value\n",
    "\n",
    "and there are 196 observations. "
   ]
  },
  {
   "cell_type": "markdown",
   "id": "6929faf2-51e4-431b-9aac-6f1c45468213",
   "metadata": {},
   "source": [
    "## Analysis on Session Data Set"
   ]
  },
  {
   "cell_type": "code",
   "execution_count": 5,
   "id": "a847a223-9a28-42d6-8e3e-ee3a877a2852",
   "metadata": {},
   "outputs": [
    {
     "name": "stderr",
     "output_type": "stream",
     "text": [
      "\u001b[1mRows: \u001b[22m\u001b[34m1535\u001b[39m \u001b[1mColumns: \u001b[22m\u001b[34m5\u001b[39m\n",
      "\u001b[36m──\u001b[39m \u001b[1mColumn specification\u001b[22m \u001b[36m────────────────────────────────────────────────────────\u001b[39m\n",
      "\u001b[1mDelimiter:\u001b[22m \",\"\n",
      "\u001b[31mchr\u001b[39m (3): hashedEmail, start_time, end_time\n",
      "\u001b[32mdbl\u001b[39m (2): original_start_time, original_end_time\n",
      "\n",
      "\u001b[36mℹ\u001b[39m Use `spec()` to retrieve the full column specification for this data.\n",
      "\u001b[36mℹ\u001b[39m Specify the column types or set `show_col_types = FALSE` to quiet this message.\n"
     ]
    },
    {
     "data": {
      "text/html": [
       "<table class=\"dataframe\">\n",
       "<caption>A tibble: 10 × 5</caption>\n",
       "<thead>\n",
       "\t<tr><th scope=col>hashedEmail</th><th scope=col>start_time</th><th scope=col>end_time</th><th scope=col>original_start_time</th><th scope=col>original_end_time</th></tr>\n",
       "\t<tr><th scope=col>&lt;chr&gt;</th><th scope=col>&lt;chr&gt;</th><th scope=col>&lt;chr&gt;</th><th scope=col>&lt;dbl&gt;</th><th scope=col>&lt;dbl&gt;</th></tr>\n",
       "</thead>\n",
       "<tbody>\n",
       "\t<tr><td>bfce39c89d6549f2bb94d8064d3ce69dc3d7e72b38f431d8aa0c4bf95ccee6bf</td><td>30/06/2024 18:12</td><td>30/06/2024 18:24</td><td>1.71977e+12</td><td>1.71977e+12</td></tr>\n",
       "\t<tr><td>36d9cbb4c6bc0c1a6911436d2da0d09ec625e43e6552f575d4acc9cf487c4686</td><td>17/06/2024 23:33</td><td>17/06/2024 23:46</td><td>1.71867e+12</td><td>1.71867e+12</td></tr>\n",
       "\t<tr><td>f8f5477f5a2e53616ae37421b1c660b971192bd8ff77e3398304c7ae42581fdc</td><td>25/07/2024 17:34</td><td>25/07/2024 17:57</td><td>1.72193e+12</td><td>1.72193e+12</td></tr>\n",
       "\t<tr><td>bfce39c89d6549f2bb94d8064d3ce69dc3d7e72b38f431d8aa0c4bf95ccee6bf</td><td>25/07/2024 03:22</td><td>25/07/2024 03:58</td><td>1.72188e+12</td><td>1.72188e+12</td></tr>\n",
       "\t<tr><td>36d9cbb4c6bc0c1a6911436d2da0d09ec625e43e6552f575d4acc9cf487c4686</td><td>25/05/2024 16:01</td><td>25/05/2024 16:12</td><td>1.71665e+12</td><td>1.71665e+12</td></tr>\n",
       "\t<tr><td>bfce39c89d6549f2bb94d8064d3ce69dc3d7e72b38f431d8aa0c4bf95ccee6bf</td><td>23/06/2024 15:08</td><td>23/06/2024 17:10</td><td>1.71916e+12</td><td>1.71916e+12</td></tr>\n",
       "\t<tr><td>fd6563a4e0f6f4273580e5fedbd8dda64990447aea5a33cbb5e894a3867ca44d</td><td>15/04/2024 07:12</td><td>15/04/2024 07:21</td><td>1.71317e+12</td><td>1.71317e+12</td></tr>\n",
       "\t<tr><td>ad6390295640af1ed0e45ffc58a53b2d9074b0eea694b16210addd44d7c81f83</td><td>21/09/2024 02:13</td><td>21/09/2024 02:30</td><td>1.72688e+12</td><td>1.72689e+12</td></tr>\n",
       "\t<tr><td>96e190b0bf3923cd8d349eee467c09d1130af143335779251492eb4c2c058a5f</td><td>21/06/2024 02:31</td><td>21/06/2024 02:49</td><td>1.71894e+12</td><td>1.71894e+12</td></tr>\n",
       "\t<tr><td>36d9cbb4c6bc0c1a6911436d2da0d09ec625e43e6552f575d4acc9cf487c4686</td><td>16/05/2024 05:13</td><td>16/05/2024 05:52</td><td>1.71584e+12</td><td>1.71584e+12</td></tr>\n",
       "</tbody>\n",
       "</table>\n"
      ],
      "text/latex": [
       "A tibble: 10 × 5\n",
       "\\begin{tabular}{lllll}\n",
       " hashedEmail & start\\_time & end\\_time & original\\_start\\_time & original\\_end\\_time\\\\\n",
       " <chr> & <chr> & <chr> & <dbl> & <dbl>\\\\\n",
       "\\hline\n",
       "\t bfce39c89d6549f2bb94d8064d3ce69dc3d7e72b38f431d8aa0c4bf95ccee6bf & 30/06/2024 18:12 & 30/06/2024 18:24 & 1.71977e+12 & 1.71977e+12\\\\\n",
       "\t 36d9cbb4c6bc0c1a6911436d2da0d09ec625e43e6552f575d4acc9cf487c4686 & 17/06/2024 23:33 & 17/06/2024 23:46 & 1.71867e+12 & 1.71867e+12\\\\\n",
       "\t f8f5477f5a2e53616ae37421b1c660b971192bd8ff77e3398304c7ae42581fdc & 25/07/2024 17:34 & 25/07/2024 17:57 & 1.72193e+12 & 1.72193e+12\\\\\n",
       "\t bfce39c89d6549f2bb94d8064d3ce69dc3d7e72b38f431d8aa0c4bf95ccee6bf & 25/07/2024 03:22 & 25/07/2024 03:58 & 1.72188e+12 & 1.72188e+12\\\\\n",
       "\t 36d9cbb4c6bc0c1a6911436d2da0d09ec625e43e6552f575d4acc9cf487c4686 & 25/05/2024 16:01 & 25/05/2024 16:12 & 1.71665e+12 & 1.71665e+12\\\\\n",
       "\t bfce39c89d6549f2bb94d8064d3ce69dc3d7e72b38f431d8aa0c4bf95ccee6bf & 23/06/2024 15:08 & 23/06/2024 17:10 & 1.71916e+12 & 1.71916e+12\\\\\n",
       "\t fd6563a4e0f6f4273580e5fedbd8dda64990447aea5a33cbb5e894a3867ca44d & 15/04/2024 07:12 & 15/04/2024 07:21 & 1.71317e+12 & 1.71317e+12\\\\\n",
       "\t ad6390295640af1ed0e45ffc58a53b2d9074b0eea694b16210addd44d7c81f83 & 21/09/2024 02:13 & 21/09/2024 02:30 & 1.72688e+12 & 1.72689e+12\\\\\n",
       "\t 96e190b0bf3923cd8d349eee467c09d1130af143335779251492eb4c2c058a5f & 21/06/2024 02:31 & 21/06/2024 02:49 & 1.71894e+12 & 1.71894e+12\\\\\n",
       "\t 36d9cbb4c6bc0c1a6911436d2da0d09ec625e43e6552f575d4acc9cf487c4686 & 16/05/2024 05:13 & 16/05/2024 05:52 & 1.71584e+12 & 1.71584e+12\\\\\n",
       "\\end{tabular}\n"
      ],
      "text/markdown": [
       "\n",
       "A tibble: 10 × 5\n",
       "\n",
       "| hashedEmail &lt;chr&gt; | start_time &lt;chr&gt; | end_time &lt;chr&gt; | original_start_time &lt;dbl&gt; | original_end_time &lt;dbl&gt; |\n",
       "|---|---|---|---|---|\n",
       "| bfce39c89d6549f2bb94d8064d3ce69dc3d7e72b38f431d8aa0c4bf95ccee6bf | 30/06/2024 18:12 | 30/06/2024 18:24 | 1.71977e+12 | 1.71977e+12 |\n",
       "| 36d9cbb4c6bc0c1a6911436d2da0d09ec625e43e6552f575d4acc9cf487c4686 | 17/06/2024 23:33 | 17/06/2024 23:46 | 1.71867e+12 | 1.71867e+12 |\n",
       "| f8f5477f5a2e53616ae37421b1c660b971192bd8ff77e3398304c7ae42581fdc | 25/07/2024 17:34 | 25/07/2024 17:57 | 1.72193e+12 | 1.72193e+12 |\n",
       "| bfce39c89d6549f2bb94d8064d3ce69dc3d7e72b38f431d8aa0c4bf95ccee6bf | 25/07/2024 03:22 | 25/07/2024 03:58 | 1.72188e+12 | 1.72188e+12 |\n",
       "| 36d9cbb4c6bc0c1a6911436d2da0d09ec625e43e6552f575d4acc9cf487c4686 | 25/05/2024 16:01 | 25/05/2024 16:12 | 1.71665e+12 | 1.71665e+12 |\n",
       "| bfce39c89d6549f2bb94d8064d3ce69dc3d7e72b38f431d8aa0c4bf95ccee6bf | 23/06/2024 15:08 | 23/06/2024 17:10 | 1.71916e+12 | 1.71916e+12 |\n",
       "| fd6563a4e0f6f4273580e5fedbd8dda64990447aea5a33cbb5e894a3867ca44d | 15/04/2024 07:12 | 15/04/2024 07:21 | 1.71317e+12 | 1.71317e+12 |\n",
       "| ad6390295640af1ed0e45ffc58a53b2d9074b0eea694b16210addd44d7c81f83 | 21/09/2024 02:13 | 21/09/2024 02:30 | 1.72688e+12 | 1.72689e+12 |\n",
       "| 96e190b0bf3923cd8d349eee467c09d1130af143335779251492eb4c2c058a5f | 21/06/2024 02:31 | 21/06/2024 02:49 | 1.71894e+12 | 1.71894e+12 |\n",
       "| 36d9cbb4c6bc0c1a6911436d2da0d09ec625e43e6552f575d4acc9cf487c4686 | 16/05/2024 05:13 | 16/05/2024 05:52 | 1.71584e+12 | 1.71584e+12 |\n",
       "\n"
      ],
      "text/plain": [
       "   hashedEmail                                                     \n",
       "1  bfce39c89d6549f2bb94d8064d3ce69dc3d7e72b38f431d8aa0c4bf95ccee6bf\n",
       "2  36d9cbb4c6bc0c1a6911436d2da0d09ec625e43e6552f575d4acc9cf487c4686\n",
       "3  f8f5477f5a2e53616ae37421b1c660b971192bd8ff77e3398304c7ae42581fdc\n",
       "4  bfce39c89d6549f2bb94d8064d3ce69dc3d7e72b38f431d8aa0c4bf95ccee6bf\n",
       "5  36d9cbb4c6bc0c1a6911436d2da0d09ec625e43e6552f575d4acc9cf487c4686\n",
       "6  bfce39c89d6549f2bb94d8064d3ce69dc3d7e72b38f431d8aa0c4bf95ccee6bf\n",
       "7  fd6563a4e0f6f4273580e5fedbd8dda64990447aea5a33cbb5e894a3867ca44d\n",
       "8  ad6390295640af1ed0e45ffc58a53b2d9074b0eea694b16210addd44d7c81f83\n",
       "9  96e190b0bf3923cd8d349eee467c09d1130af143335779251492eb4c2c058a5f\n",
       "10 36d9cbb4c6bc0c1a6911436d2da0d09ec625e43e6552f575d4acc9cf487c4686\n",
       "   start_time       end_time         original_start_time original_end_time\n",
       "1  30/06/2024 18:12 30/06/2024 18:24 1.71977e+12         1.71977e+12      \n",
       "2  17/06/2024 23:33 17/06/2024 23:46 1.71867e+12         1.71867e+12      \n",
       "3  25/07/2024 17:34 25/07/2024 17:57 1.72193e+12         1.72193e+12      \n",
       "4  25/07/2024 03:22 25/07/2024 03:58 1.72188e+12         1.72188e+12      \n",
       "5  25/05/2024 16:01 25/05/2024 16:12 1.71665e+12         1.71665e+12      \n",
       "6  23/06/2024 15:08 23/06/2024 17:10 1.71916e+12         1.71916e+12      \n",
       "7  15/04/2024 07:12 15/04/2024 07:21 1.71317e+12         1.71317e+12      \n",
       "8  21/09/2024 02:13 21/09/2024 02:30 1.72688e+12         1.72689e+12      \n",
       "9  21/06/2024 02:31 21/06/2024 02:49 1.71894e+12         1.71894e+12      \n",
       "10 16/05/2024 05:13 16/05/2024 05:52 1.71584e+12         1.71584e+12      "
      ]
     },
     "metadata": {},
     "output_type": "display_data"
    }
   ],
   "source": [
    "session <- read_csv(\"sessions.csv\")\n",
    "head(session,10)"
   ]
  },
  {
   "cell_type": "markdown",
   "id": "50960dd3-bd8b-4c3b-b8cd-a5b0ca7b2b61",
   "metadata": {},
   "source": [
    "In the session data set, it captures detailed gameplay activity of an indivual. It contains 5 variables: \n",
    "\n",
    "1. hashedEmail\n",
    "- in character\n",
    "- An anonymized unique ID that links each session to a player\n",
    "\n",
    "2. start_time\n",
    "- in character\n",
    "- \tHuman-readable timestamp showing when the session began\n",
    "\n",
    "3. end_time\n",
    "-  in character\n",
    "- Human-readable timestamp showing when the session ended\n",
    "\n",
    "4. original_start_time\n",
    "- in decimals\n",
    "- timestamp when the session started\n",
    "\n",
    "5. original_end_time\n",
    "- in decimals\n",
    "- timestamp when the session ended\n",
    "\n",
    "and there are 1535 observations."
   ]
  },
  {
   "cell_type": "markdown",
   "id": "cfbc9b04-641e-493e-b918-a72a6dbf5dd1",
   "metadata": {},
   "source": [
    "### Issues "
   ]
  },
  {
   "cell_type": "markdown",
   "id": "f11f1d99-b4c4-49a5-bfe4-ff30ae9e6bce",
   "metadata": {},
   "source": [
    "There are 2 data sets, in which would be beneficial to use both for the analysis. There are also more observation in the session data set compared to the player data set. Therefore, must find a way to combine the 2 data sets by hashed email and summarize session count and combine all required variables into one data set. \n",
    "\n",
    "Additionally, as gender is a character variable, need to adjust it so that it is suitable for the model and can be scaled to the other predictors as it can lead to an unbalance and unaccurate model."
   ]
  },
  {
   "cell_type": "markdown",
   "id": "6171dd8c-0ae8-4d2d-a7f6-8b42025f90b8",
   "metadata": {},
   "source": [
    "----------------"
   ]
  },
  {
   "cell_type": "code",
   "execution_count": null,
   "id": "31b4ec80-871f-4405-b352-04e949a6a569",
   "metadata": {},
   "outputs": [],
   "source": []
  }
 ],
 "metadata": {
  "kernelspec": {
   "display_name": "R",
   "language": "R",
   "name": "ir"
  },
  "language_info": {
   "codemirror_mode": "r",
   "file_extension": ".r",
   "mimetype": "text/x-r-source",
   "name": "R",
   "pygments_lexer": "r",
   "version": "4.3.3"
  }
 },
 "nbformat": 4,
 "nbformat_minor": 5
}
